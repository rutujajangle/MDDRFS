{
  "nbformat": 4,
  "nbformat_minor": 0,
  "metadata": {
    "colab": {
      "provenance": []
    },
    "kernelspec": {
      "name": "python3",
      "display_name": "Python 3"
    },
    "language_info": {
      "name": "python"
    }
  },
  "cells": [
    {
      "cell_type": "markdown",
      "source": [
        "This code will apply the same augmentations to both the images and their corresponding masks and save the augmented images and masks in a new directory output inside the image subfolder.\n",
        "\n",
        "You can also use the p.process() to apply the augmentations to the images and their corresponding masks and save them in their respective directories and then use these augmented images and masks for training or testing your model.\n",
        "\n",
        "You can also change the above code to create a subdirectory inside the image subfolder where the augmented images will be saved and play around with the probability values of each operation to control the percentage of images on which a particular operation is performed.\n",
        "\n",
        "You can also use the above code for the test folders by simply changing the folder names accordingly.\n"
      ],
      "metadata": {
        "id": "uqigiZdBT4Wd"
      }
    },
    {
      "cell_type": "code",
      "execution_count": null,
      "metadata": {
        "id": "9cbjc2a9T1un"
      },
      "outputs": [],
      "source": [
        "import os\n",
        "import Augmentor\n",
        "\n",
        "# Define the parent directory where the subfolders are located\n",
        "parent_dir = 'path/to/parent/directory'\n",
        "\n",
        "# Define the subfolders for the images and masks\n",
        "image_folder = 'train/images'\n",
        "mask_folder = 'train/masks'\n",
        "\n",
        "# Create an Augmentor pipeline for the images\n",
        "p = Augmentor.Pipeline(os.path.join(parent_dir, image_folder))\n",
        "\n",
        "# Define the augmentations to apply\n",
        "p.flip_left_right(probability=0.5)\n",
        "p.rotate(probability=1, max_left_rotation=5, max_right_rotation=5)\n",
        "p.random_brightness(probability=1, min_factor=0.5, max_factor=1.5)\n",
        "p.random_contrast(probability=1, min_factor=0.5, max_factor=1.5)\n",
        "p.zoom(probability=1, min_factor=0.9, max_factor=1.1)\n",
        "\n",
        "# Create a function to generate the augmented images and masks\n",
        "def generate_images_and_masks(image, mask):\n",
        "    # Apply the augmentations\n",
        "    augmented_image = p._operations.operate([image])[0]\n",
        "    augmented_mask = p._operations.operate([mask])[0]\n",
        "\n",
        "    return augmented_image, augmented_mask\n",
        "\n",
        "# Use the map() function to apply the generate_images_and_masks() function to each file in the dataset\n",
        "p.ground_truth(os.path.join(parent_dir, mask_folder), generator = generate_images_and_masks)\n",
        "\n",
        "# Generate the augmented images and masks\n",
        "p.sample(n=1000)\n",
        "\n",
        "\n",
        "\n"
      ]
    }
  ]
}
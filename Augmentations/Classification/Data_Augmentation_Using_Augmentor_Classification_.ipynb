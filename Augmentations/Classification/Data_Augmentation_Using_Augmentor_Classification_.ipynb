{
  "nbformat": 4,
  "nbformat_minor": 0,
  "metadata": {
    "colab": {
      "provenance": []
    },
    "kernelspec": {
      "name": "python3",
      "display_name": "Python 3"
    },
    "language_info": {
      "name": "python"
    }
  },
  "cells": [
    {
      "cell_type": "markdown",
      "source": [],
      "metadata": {
        "id": "6m2eIQqTTspN"
      }
    },
    {
      "cell_type": "code",
      "source": [
        "import os\n",
        "import Augmentor"
      ],
      "metadata": {
        "id": "gMStZSKHQbtu"
      },
      "execution_count": null,
      "outputs": []
    },
    {
      "cell_type": "markdown",
      "source": [
        "This code will loop through each subfolder in the parent directory and create an Augmentor pipeline for that subfolder. It will then apply the same augmentations to all the images within that subfolder and save the augmented images in a new directory output inside that subfolder.\n",
        "\n",
        "You can also use the p.process() to apply the augmentations to the images and save them in a directory and then use these augmented images for training or testing your model.\n",
        "\n",
        "You can also change the above code to create a subdirectory inside each subfolder where the augmented images will be saved and play around with the probability values of each operation to control the percentage of images on which a particular operation is performed.\n",
        "\n",
        "\n"
      ],
      "metadata": {
        "id": "oyNSPhyrQRIf"
      }
    },
    {
      "cell_type": "code",
      "execution_count": null,
      "metadata": {
        "id": "oN4zIW_JQAGb"
      },
      "outputs": [],
      "source": [
        "\n",
        "\n",
        "# Define the parent directory where the subfolders are located\n",
        "parent_dir = 'path/to/parent/directory'\n",
        "\n",
        "# Get a list of all the subfolders in the parent directory\n",
        "subfolders = [f.path for f in os.scandir(parent_dir) if f.is_dir()]\n",
        "\n",
        "# Loop through each subfolder\n",
        "for subfolder in subfolders:\n",
        "    # Create an Augmentor pipeline for the current subfolder\n",
        "    p = Augmentor.Pipeline(subfolder)\n",
        "\n",
        "    # Define the augmentations to apply\n",
        "    p.flip_left_right(probability=0.5)\n",
        "    p.rotate(probability=1, max_left_rotation=5, max_right_rotation=5)\n",
        "    p.random_brightness(probability=1, min_factor=0.5, max_factor=1.5)\n",
        "    p.random_contrast(probability=1, min_factor=0.5, max_factor=1.5)\n",
        "    p.zoom(probability=1, min_factor=0.9, max_factor=1.1)\n",
        "\n",
        "    # Generate the augmented images\n",
        "    p.sample(n=1000)\n",
        "\n",
        "\n"
      ]
    }
  ]
}
{
  "nbformat": 4,
  "nbformat_minor": 0,
  "metadata": {
    "colab": {
      "provenance": [],
      "machine_shape": "hm"
    },
    "kernelspec": {
      "name": "python3",
      "display_name": "Python 3"
    },
    "language_info": {
      "name": "python"
    },
    "accelerator": "GPU",
    "gpuClass": "premium"
  },
  "cells": [
    {
      "cell_type": "code",
      "source": [
        "import os\n",
        "import shutil\n",
        "import pandas as pd\n",
        "import csv\n",
        "\n",
        "# provide the path to the images and csv file\n",
        "dataset_path= '/content/drive/MyDrive/Retinal Fundus Dataset/Training_Set/Training/'\n",
        "csv_file = '/content/drive/MyDrive/Retinal Fundus Dataset/Training_Set/RFMiD_Training_Labels.csv'\n",
        "\n",
        "# Read the csv file, convert the 'img_file' column to string\n",
        "df = pd.read_csv(csv_file, dtype={'ID': str})"
      ],
      "metadata": {
        "id": "LwZ_1fBJMZYH"
      },
      "execution_count": 1,
      "outputs": []
    },
    {
      "cell_type": "code",
      "source": [
        "# Read the csv file\n",
        "with open(csv_file, 'r') as f:\n",
        "    reader = csv.reader(f)\n",
        "    header = next(reader)\n",
        "    data = [row for row in reader]\n",
        "\n",
        "# Get the indices of the diseases in the header\n",
        "disease_indices = [header.index(disease) for disease in header[1:]]\n",
        "\n",
        "# Create the folders for the diseases if they don't exist\n",
        "for disease_index in disease_indices:\n",
        "    disease = header[disease_index]\n",
        "    disease_folder = os.path.join(dataset_path, disease)\n",
        "    if not os.path.exists(disease_folder):\n",
        "        os.makedirs(disease_folder)\n",
        "\n",
        "# Iterate over each row in the data\n",
        "for row in data:\n",
        "    img_file = row[0] + '.png'\n",
        "    img_path = os.path.join(dataset_path, img_file)\n",
        "    \n",
        "    # Check if the file exists and is not a cache file\n",
        "    if os.path.exists(img_path) and not img_file.startswith('.'):\n",
        "        # Iterate over the diseases\n",
        "        for disease_index in disease_indices:\n",
        "            if int(row[disease_index]) == 1:\n",
        "                disease = header[disease_index]\n",
        "                disease_folder = os.path.join(dataset_path, disease)\n",
        "                dest_path = os.path.join(disease_folder, img_file)\n",
        "                shutil.copy2(img_path, dest_path)"
      ],
      "metadata": {
        "id": "LrIZXHGleyTR"
      },
      "execution_count": 4,
      "outputs": []
    },
    {
      "cell_type": "code",
      "source": [],
      "metadata": {
        "id": "b5lY90nFisPx"
      },
      "execution_count": 2,
      "outputs": []
    }
  ]
}
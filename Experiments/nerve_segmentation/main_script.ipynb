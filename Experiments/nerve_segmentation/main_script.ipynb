{
 "cells": [
  {
   "cell_type": "code",
   "execution_count": null,
   "id": "7a401198",
   "metadata": {},
   "outputs": [],
   "source": [
    "import tensorflow as tf\n",
    "from function import *\n",
    "from losses import *\n",
    "from metrics import *\n",
    "from preprocessing import *\n",
    "\n",
    "from unet import UNet\n",
    "import os\n",
    "import numpy as np\n",
    "from tensorflow.keras.callbacks import ReduceLROnPlateau\n",
    "from tensorflow.keras.optimizers import Adam"
   ]
  },
  {
   "cell_type": "code",
   "execution_count": null,
   "id": "183ad169",
   "metadata": {},
   "outputs": [],
   "source": [
    "# Jaccard loss, MSE\n",
    "# Adam Optimizer\n",
    "# Learning rate schedule\n",
    "# Checkpoint\n",
    "# Fixed Size = 512x512\n",
    "\n",
    "MODEL_NAME = \"Segmentation UNET\"\n",
    "# path to zipped & working directories\n",
    "path = 'Data/Segmentation'"
   ]
  },
  {
   "cell_type": "code",
   "execution_count": null,
   "id": "89812247",
   "metadata": {},
   "outputs": [],
   "source": [
    "# store image names in list for later use\n",
    "train_img = sorted(os.listdir(path + '/Train/Input'))\n",
    "train_cleaned_img = sorted(os.listdir(path + '/Train/Output'))\n",
    "validation_img = sorted(os.listdir(path + '/Validate/Input'))\n",
    "validation_cleaned_img = sorted(os.listdir(path + '/Validate/Output'))"
   ]
  },
  {
   "cell_type": "code",
   "execution_count": null,
   "id": "d37cd596",
   "metadata": {},
   "outputs": [],
   "source": [
    "# Print Number of Images found\n",
    "print(f'Training Images: {len(train_img)}')\n",
    "print(f'Training Image Labels: {len(train_cleaned_img)}')\n",
    "print(f'Validation Images: {len(validation_img)}')\n",
    "print(f'Validation Image Labels: {len(validation_cleaned_img)}')\n",
    "images = [i for i in train_img if i not in train_cleaned_img]\n",
    "print(images)"
   ]
  },
  {
   "cell_type": "code",
   "execution_count": null,
   "id": "2568fbea",
   "metadata": {},
   "outputs": [],
   "source": [
    "train = []\n",
    "train_cleaned = []\n",
    "validate = []\n",
    "validate_cleaned = []"
   ]
  },
  {
   "cell_type": "code",
   "execution_count": null,
   "id": "b9ea9a57",
   "metadata": {},
   "outputs": [],
   "source": [
    "path1 = 'Data/Segmentation/Train'\n",
    "path2 = 'Data/Segmentation/Validate'"
   ]
  },
  {
   "cell_type": "code",
   "execution_count": null,
   "id": "d2433d04",
   "metadata": {},
   "outputs": [],
   "source": [
    "# Training\n",
    "for f in sorted(os.listdir(path1 + '/Input')):\n",
    "    train.append(process_image(path1 + '/Input/' + f))\n",
    "\n",
    "for f in sorted(os.listdir(path1 + '/Output')):\n",
    "    train_cleaned.append(process_image(path1+ '/Output/' + f))"
   ]
  },
  {
   "cell_type": "code",
   "execution_count": null,
   "id": "dac5c26e",
   "metadata": {},
   "outputs": [],
   "source": [
    "# Validation \n",
    "for f in sorted(os.listdir(path2 + '/Input')):\n",
    "    validate.append(process_image(path2 + '/Input/' + f))\n",
    "    \n",
    "for f in sorted(os.listdir(path2 + '/Output')):\n",
    "    validate_cleaned.append(process_image(path2 + '/Output/' + f))"
   ]
  },
  {
   "cell_type": "code",
   "execution_count": null,
   "id": "4cfc01e0",
   "metadata": {},
   "outputs": [],
   "source": [
    "# convert list to numpy array\n",
    "X_train = np.asarray(train)\n",
    "Y_train = np.asarray(train_cleaned)\n",
    "X_val = np.asarray(validate)\n",
    "Y_val = np.asarray(validate_cleaned)"
   ]
  },
  {
   "cell_type": "code",
   "execution_count": null,
   "id": "9f9dc293",
   "metadata": {},
   "outputs": [],
   "source": [
    "del train\n",
    "del train_cleaned\n",
    "del validate\n",
    "del validate_cleaned"
   ]
  },
  {
   "cell_type": "code",
   "execution_count": null,
   "id": "33d49d45",
   "metadata": {},
   "outputs": [],
   "source": [
    "model = UNet((512, 512, 1), 64, 'transpose2d')\n",
    "checkpoint = tf.keras.callbacks.ModelCheckpoint(f\"ckpt/{MODEL_NAME}/best_model\", save_best_only=True)\n",
    "reduce_lr = ReduceLROnPlateau(monitor='val_loss', \n",
    "                              factor=0.1,\n",
    "                              patience=5, \n",
    "                              min_lr=10e-12, \n",
    "                              verbose=1)"
   ]
  },
  {
   "cell_type": "code",
   "execution_count": null,
   "id": "0561181f",
   "metadata": {},
   "outputs": [],
   "source": [
    "model.compile(optimizer=Adam(learning_rate = 10e-4), \n",
    "              loss=JaccardLoss(), \n",
    "              metrics=[IOUScore(threshold=0.5), FScore(threshold=0.5)],\n",
    "              callbacks=[checkpoint])"
   ]
  },
  {
   "cell_type": "code",
   "execution_count": null,
   "id": "a1fd5d12",
   "metadata": {},
   "outputs": [],
   "source": [
    "history = model.fit(X_train, Y_train, \n",
    "                    validation_data=(X_val, Y_val), \n",
    "                    epochs=50, \n",
    "                    batch_size=2, \n",
    "                    callbacks=[reduce_lr])"
   ]
  },
  {
   "cell_type": "code",
   "execution_count": null,
   "id": "3d6bb2d2",
   "metadata": {},
   "outputs": [],
   "source": [
    "##########################################\n",
    "# Test Script\n",
    "##########################################"
   ]
  },
  {
   "cell_type": "code",
   "execution_count": null,
   "id": "df49f3d5",
   "metadata": {},
   "outputs": [],
   "source": [
    "def MeanIOU(predictions, labels, threshold):\n",
    "    samples = len(predictions)\n",
    "    iou = 0\n",
    "    for i in range(samples):\n",
    "        iou += iou_score(labels[i], predictions[i], threshold=threshold)\n",
    "\n",
    "    return iou/samples"
   ]
  },
  {
   "cell_type": "code",
   "execution_count": null,
   "id": "026ff296",
   "metadata": {},
   "outputs": [],
   "source": [
    "def MeanDiceCoeff(predictions, labels, threshold):\n",
    "    samples = len(predictions)\n",
    "    dice_coef = 0\n",
    "    for i in range(samples):\n",
    "        dice_coef += dice_coefficient(labels[i], predictions[i], threshold=threshold)\n",
    "\n",
    "    return dice_coef/samples "
   ]
  },
  {
   "cell_type": "code",
   "execution_count": null,
   "id": "b95c50d9",
   "metadata": {},
   "outputs": [],
   "source": [
    "if __name__ == \"__main__\":\n",
    "    model = UNet((512, 512, 1), 64, 'transpose2d')\n",
    "    model.load_weights('ckpt_path')\n",
    "\n",
    "    path = 'Data/Segmentation'\n",
    "    test_img = sorted(os.listdir(path + '/Test/Input'))\n",
    "    test_cleaned_img = sorted(os.listdir(path + '/Test/Output'))\n",
    "\n",
    "    test = []\n",
    "    test_cleaned = []\n",
    "\n",
    "    path3 = 'Data/Segmentation/Test'\n",
    "\n",
    "    # Testing\n",
    "    for f in sorted(os.listdir(path3 + '/Input')):\n",
    "        test.append(process_image(path3 + '/Input/' + f))\n",
    "\n",
    "    for f in sorted(os.listdir(path3 + '/Output')):\n",
    "        test_cleaned.append(process_image(path3 + '/Output/' + f))\n",
    "\n",
    "    X_test = np.asarray(test)\n",
    "    Y_test = np.asarray(test_cleaned)\n",
    "\n",
    "    del test\n",
    "    del test_cleaned\n",
    "\n",
    "    predictions = model.predict(X_test)\n",
    "\n",
    "    iou_50 = MeanIOU(list(predictions), list(Y_test), threshold = 0.5)\n",
    "    dice_50 = MeanDiceCoeff(list(predictions), list(Y_test), threshold = 0.5)\n",
    "\n",
    "    iou_75 = MeanIOU(list(predictions), list(Y_test), threshold = 0.75)\n",
    "    dice_75 = MeanDiceCoeff(list(predictions), list(Y_test), threshold = 0.75)\n",
    "\n",
    "    iou_90 = MeanIOU(list(predictions), list(Y_test), threshold = 0.9)\n",
    "    dice_90 = MeanDiceCoeff(list(predictions), list(Y_test), threshold = 0.9)"
   ]
  }
 ],
 "metadata": {
  "kernelspec": {
   "display_name": "Python [conda env:DL] *",
   "language": "python",
   "name": "conda-env-DL-py"
  },
  "language_info": {
   "codemirror_mode": {
    "name": "ipython",
    "version": 3
   },
   "file_extension": ".py",
   "mimetype": "text/x-python",
   "name": "python",
   "nbconvert_exporter": "python",
   "pygments_lexer": "ipython3",
   "version": "3.10.8"
  }
 },
 "nbformat": 4,
 "nbformat_minor": 5
}

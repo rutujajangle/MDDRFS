{
 "cells": [
  {
   "cell_type": "code",
   "execution_count": null,
   "id": "ad5a3e37",
   "metadata": {},
   "outputs": [],
   "source": [
    "import tensorflow as tf\n",
    "from unet import UNet\n",
    "import os\n",
    "import numpy as np\n",
    "from tensorflow.keras.callbacks import ReduceLROnPlateau\n",
    "from tensorflow.keras.optimizers import Adam\n",
    "from .preprocessing import process_image\n",
    "from losses import JaccardLoss, DiceLoss\n",
    "from metrics import IOUScore, "
   ]
  },
  {
   "cell_type": "code",
   "execution_count": null,
   "id": "c795489c",
   "metadata": {},
   "outputs": [],
   "source": [
    "# Jaccard loss, MSE\n",
    "# Adam Optimizer\n",
    "# Learning rate schedule\n",
    "# Checkpoint\n",
    "# Fixed Size = 512x512\n",
    "\n",
    "MODEL_NAME = \"Segmentation UNET\"\n",
    "# path to zipped & working directories\n",
    "path = 'Data/Segmentation'\n",
    "\n",
    "# store image names in list for later use\n",
    "train_img = sorted(os.listdir(path + '/Train/Input'))\n",
    "train_cleaned_img = sorted(os.listdir(path + '/Train/Output'))\n",
    "validation_img = sorted(os.listdir(path + '/Validate/Input'))\n",
    "validation_cleaned_img = sorted(os.listdir(path + '/Validate/Output'))"
   ]
  },
  {
   "cell_type": "code",
   "execution_count": null,
   "id": "77861a51",
   "metadata": {},
   "outputs": [],
   "source": [
    "# Print Number of Images found\n",
    "print(f'Training Images: {len(train_img)}')\n",
    "print(f'Training Image Labels: {len(train_cleaned_img)}')\n",
    "print(f'Validation Images: {len(validation_img)}')\n",
    "print(f'Validation Image Labels: {len(validation_cleaned_img)}')\n",
    "images = [i for i in train_img if i not in train_cleaned_img]\n",
    "print(images)"
   ]
  },
  {
   "cell_type": "code",
   "execution_count": null,
   "id": "3d70f579",
   "metadata": {},
   "outputs": [],
   "source": [
    "train = []\n",
    "train_cleaned = []\n",
    "validate = []\n",
    "validate_cleaned = []"
   ]
  },
  {
   "cell_type": "code",
   "execution_count": null,
   "id": "db8ddae0",
   "metadata": {},
   "outputs": [],
   "source": [
    "path1 = 'Data/Segmentation/Train'\n",
    "path2 = 'Data/Segmentation/Validate'"
   ]
  },
  {
   "cell_type": "code",
   "execution_count": null,
   "id": "5b0a92c3",
   "metadata": {},
   "outputs": [],
   "source": [
    "# Training\n",
    "for f in sorted(os.listdir(path1 + '/Input')):\n",
    "    train.append(process_image(path1 + '/Input/' + f))\n",
    "\n",
    "for f in sorted(os.listdir(path1 + '/Output')):\n",
    "    train_cleaned.append(process_image(path1+ '/Output/' + f))\n",
    "    \n",
    "# Validation \n",
    "for f in sorted(os.listdir(path2 + '/Input')):\n",
    "    validate.append(process_image(path2 + '/Input/' + f))\n",
    "    \n",
    "for f in sorted(os.listdir(path2 + '/Output')):\n",
    "    validate_cleaned.append(process_image(path2 + '/Output/' + f))"
   ]
  },
  {
   "cell_type": "code",
   "execution_count": null,
   "id": "92150cef",
   "metadata": {},
   "outputs": [],
   "source": [
    "# convert list to numpy array\n",
    "X_train = np.asarray(train)\n",
    "Y_train = np.asarray(train_cleaned)\n",
    "X_val = np.asarray(validate)\n",
    "Y_val = np.asarray(validate_cleaned)"
   ]
  },
  {
   "cell_type": "code",
   "execution_count": null,
   "id": "89711530",
   "metadata": {},
   "outputs": [],
   "source": [
    "del train\n",
    "del train_cleaned\n",
    "del validate\n",
    "del validate_cleaned"
   ]
  },
  {
   "cell_type": "code",
   "execution_count": null,
   "id": "9c580061",
   "metadata": {},
   "outputs": [],
   "source": [
    "model = UNet((512, 512, 1), 64, 'transpose2d')\n",
    "checkpoint = tf.keras.callbacks.ModelCheckpoint(f\"ckpt/{MODEL_NAME}/best_model\", save_best_only=True)\n",
    "reduce_lr = ReduceLROnPlateau(monitor='val_loss', \n",
    "                              factor=0.1,\n",
    "                              patience=5, \n",
    "                              min_lr=10e-12, \n",
    "                              verbose=1)"
   ]
  },
  {
   "cell_type": "code",
   "execution_count": null,
   "id": "078f5fb1",
   "metadata": {},
   "outputs": [],
   "source": [
    "model.compile(optimizer=Adam(learning_rate = 10e-4), \n",
    "              loss=JaccardLoss(), \n",
    "              metrics=[IOUScore(threshold=0.5), FScore(threshold=0.5)],\n",
    "              callbacks=[checkpoint])"
   ]
  },
  {
   "cell_type": "code",
   "execution_count": null,
   "id": "dcc72de1",
   "metadata": {},
   "outputs": [],
   "source": [
    "history = model.fit(X_train, Y_train, \n",
    "                    validation_data=(X_val, Y_val), \n",
    "                    epochs=50, \n",
    "                    batch_size=2, \n",
    "                    callbacks=[reduce_lr])"
   ]
  },
  {
   "cell_type": "code",
   "execution_count": null,
   "id": "bdb3cfcf",
   "metadata": {},
   "outputs": [],
   "source": []
  }
 ],
 "metadata": {
  "kernelspec": {
   "display_name": "Python [conda env:tf-mac] *",
   "language": "python",
   "name": "conda-env-tf-mac-py"
  },
  "language_info": {
   "codemirror_mode": {
    "name": "ipython",
    "version": 3
   },
   "file_extension": ".py",
   "mimetype": "text/x-python",
   "name": "python",
   "nbconvert_exporter": "python",
   "pygments_lexer": "ipython3",
   "version": "3.10.6"
  }
 },
 "nbformat": 4,
 "nbformat_minor": 5
}

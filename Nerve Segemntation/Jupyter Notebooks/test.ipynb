{
 "cells": [
  {
   "cell_type": "code",
   "execution_count": null,
   "id": "a59abb7b",
   "metadata": {},
   "outputs": [],
   "source": [
    "from unet import UNet\n",
    "import os\n",
    "import numpy as np\n",
    "from .preprocessing import process_image\n",
    "from functional import *"
   ]
  },
  {
   "cell_type": "code",
   "execution_count": null,
   "id": "6e3cc2d0",
   "metadata": {},
   "outputs": [],
   "source": [
    "def MeanIOU(predictions, labels, threshold):\n",
    "    samples = len(predictions)\n",
    "    iou = 0\n",
    "    for i in range(samples):\n",
    "        iou += iou_score(labels[i], predictions[i], threshold=threshold)\n",
    "\n",
    "    return iou/samples"
   ]
  },
  {
   "cell_type": "code",
   "execution_count": null,
   "id": "d1a25756",
   "metadata": {},
   "outputs": [],
   "source": [
    "def MeanDiceCoeff(predictions, labels, threshold):\n",
    "    samples = len(predictions)\n",
    "    dice_coef = 0\n",
    "    for i in range(samples):\n",
    "        dice_coef += dice_coefficient(labels[i], predictions[i], threshold=threshold)\n",
    "\n",
    "    return dice_coef/samples "
   ]
  },
  {
   "cell_type": "code",
   "execution_count": null,
   "id": "023feef5",
   "metadata": {},
   "outputs": [],
   "source": [
    "if __name__ == \"__main__\":\n",
    "    model = UNet((512, 512, 1), 64, 'transpose2d')\n",
    "    model.load_weights('ckpt_path')\n",
    "\n",
    "    path = 'Data/Segmentation'\n",
    "    test_img = sorted(os.listdir(path + '/Test/Input'))\n",
    "    test_cleaned_img = sorted(os.listdir(path + '/Test/Output'))\n",
    "\n",
    "    test = []\n",
    "    test_cleaned = []\n",
    "\n",
    "    path3 = 'Data/Segmentation/Test'\n",
    "\n",
    "    # Testing\n",
    "    for f in sorted(os.listdir(path3 + '/Input')):\n",
    "        test.append(process_image(path3 + '/Input/' + f))\n",
    "\n",
    "    for f in sorted(os.listdir(path3 + '/Output')):\n",
    "        test_cleaned.append(process_image(path3 + '/Output/' + f))\n",
    "\n",
    "    X_test = np.asarray(test)\n",
    "    Y_test = np.asarray(test_cleaned)\n",
    "\n",
    "    del test\n",
    "    del test_cleaned\n",
    "\n",
    "    predictions = model.predict(X_test)\n",
    "\n",
    "    iou_50 = MeanIOU(list(predictions), list(Y_test), threshold = 0.5)\n",
    "    dice_50 = MeanDiceCoeff(list(predictions), list(Y_test), threshold = 0.5)\n",
    "\n",
    "    iou_75 = MeanIOU(list(predictions), list(Y_test), threshold = 0.75)\n",
    "    dice_75 = MeanDiceCoeff(list(predictions), list(Y_test), threshold = 0.75)\n",
    "\n",
    "    iou_90 = MeanIOU(list(predictions), list(Y_test), threshold = 0.9)\n",
    "    dice_90 = MeanDiceCoeff(list(predictions), list(Y_test), threshold = 0.9)"
   ]
  }
 ],
 "metadata": {
  "kernelspec": {
   "display_name": "Python [conda env:tf-mac] *",
   "language": "python",
   "name": "conda-env-tf-mac-py"
  },
  "language_info": {
   "codemirror_mode": {
    "name": "ipython",
    "version": 3
   },
   "file_extension": ".py",
   "mimetype": "text/x-python",
   "name": "python",
   "nbconvert_exporter": "python",
   "pygments_lexer": "ipython3",
   "version": "3.10.6"
  }
 },
 "nbformat": 4,
 "nbformat_minor": 5
}

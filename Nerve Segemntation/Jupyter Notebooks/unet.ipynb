{
 "cells": [
  {
   "cell_type": "code",
   "execution_count": null,
   "id": "33023955",
   "metadata": {},
   "outputs": [],
   "source": [
    "import numpy as np\n",
    "from tensorflow.keras.models import Model\n",
    "from tensorflow.keras.layers import BatchNormalization, Conv2D, Conv2DTranspose\n",
    "from tensorflow.keras.layers import MaxPooling2D, Dropout, Input, concatenate, UpSampling2D"
   ]
  },
  {
   "cell_type": "code",
   "execution_count": null,
   "id": "a1bed34b",
   "metadata": {},
   "outputs": [],
   "source": [
    "# UNet: Symmetric No Crops\n",
    "# Simple and Transpose Upsampling\n",
    "# DropOut\n",
    "# Concat"
   ]
  },
  {
   "cell_type": "code",
   "execution_count": null,
   "id": "43713c4e",
   "metadata": {},
   "outputs": [],
   "source": [
    "# ConvBlock\n",
    "def conv2d_block(x: np.array, neurons: int, multiplier: int, dropout: float) -> tuple:\n",
    "    x = Conv2D(neurons * multiplier, (3, 3), activation=\"relu\", padding=\"same\")(x)\n",
    "    x = Conv2D(neurons * multiplier, (3, 3), activation=\"relu\", padding=\"same\")(x)\n",
    "    x_pool = MaxPooling2D((2, 2))(x)\n",
    "    x_pool = Dropout(dropout)(x_pool)\n",
    "\n",
    "    return (x, x_pool)"
   ]
  },
  {
   "cell_type": "code",
   "execution_count": null,
   "id": "9b927440",
   "metadata": {},
   "outputs": [],
   "source": [
    "# Simple upsampling\n",
    "def upsample2d(x: np.array, x_concat: np.array, neurons: int, multiplier: int, dropout: float) -> np.array:\n",
    "    x = UpSampling2D(neurons * multiplier, (3, 3), strides=(2, 2), padding=\"same\")(x)\n",
    "    x = concatenate([x, x_concat])\n",
    "    x = Dropout(dropout)(x)\n",
    "    x = Conv2D(neurons * multiplier, (3, 3), activation=\"relu\", padding=\"same\")(x)\n",
    "    x = Conv2D(neurons * multiplier, (3, 3), activation=\"relu\", padding=\"same\")(x)\n",
    "\n",
    "    return x"
   ]
  },
  {
   "cell_type": "code",
   "execution_count": null,
   "id": "65fc9b41",
   "metadata": {},
   "outputs": [],
   "source": [
    "# Conv2DTranspose Upsample\n",
    "def upsample_conv2dtranspose(x: np.array, x_concat: np.array, neurons: int, multiplier: int, dropout: float) -> np.array:\n",
    "    x = Conv2DTranspose(neurons * multiplier, (3, 3), strides=(2, 2), padding=\"same\")(x)\n",
    "    x = concatenate([x, x_concat])\n",
    "    x = Dropout(dropout)(x)\n",
    "    x = Conv2D(neurons * multiplier, (3, 3), activation=\"relu\", padding=\"same\")(x)\n",
    "    x = Conv2D(neurons * multiplier, (3, 3), activation=\"relu\", padding=\"same\")(x)\n",
    "\n",
    "    return x"
   ]
  },
  {
   "cell_type": "code",
   "execution_count": null,
   "id": "d9e56ea9",
   "metadata": {},
   "outputs": [],
   "source": [
    "# Main Model\n",
    "def UNet(input_size: int, start_neurons: int, upsample: str) -> Model:\n",
    "    input_layer = Input((input_size, input_size, 1))\n",
    "\n",
    "    # Encoder Net\n",
    "    x_res1, x = conv2d_block(input_layer, start_neurons, 1, 0.25)\n",
    "    x_res2, x = conv2d_block(x, start_neurons, 2, 0.5)\n",
    "    x_res3, x = conv2d_block(x, start_neurons, 4, 0.5)\n",
    "    x_res4, x = conv2d_block(x, start_neurons, 8, 0.5)\n",
    "\n",
    "    # latent space\n",
    "    x = Conv2D(start_neurons * 16, (3, 3), activation=\"relu\", padding=\"same\")(x)\n",
    "    x = Conv2D(start_neurons * 16, (3, 3), activation=\"relu\", padding=\"same\")(x)\n",
    "\n",
    "    # Decoder Net\n",
    "    if upsample == 'transpose2d':\n",
    "        x = upsample_conv2dtranspose(x, x_res4, start_neurons, 8, 0.5)\n",
    "        x = upsample_conv2dtranspose(x, x_res3, start_neurons, 4, 0.5)\n",
    "        x = upsample_conv2dtranspose(x, x_res2, start_neurons, 2, 0.5)\n",
    "        x = upsample_conv2dtranspose(x, x_res1, start_neurons, 1, 0.5)\n",
    "    \n",
    "    elif upsample == 'upsample2d':\n",
    "        x = upsample2d(x, x_res4, start_neurons, 8, 0.5)\n",
    "        x = upsample2d(x, x_res3, start_neurons, 4, 0.5)\n",
    "        x = upsample2d(x, x_res2, start_neurons, 2, 0.5)\n",
    "        x = upsample2d(x, x_res1, start_neurons, 1, 0.5)\n",
    "    \n",
    "    else:\n",
    "        return ('Invalid upsample!')\n",
    "\n",
    "    output_layer = Conv2D(1, (1,1), padding=\"same\", activation=\"sigmoid\")(x)\n",
    "\n",
    "    model = Model(inputs=input_layer, outputs=output_layer, name=\"Unet\")\n",
    "    return model"
   ]
  }
 ],
 "metadata": {
  "kernelspec": {
   "display_name": "Python [conda env:tf-mac] *",
   "language": "python",
   "name": "conda-env-tf-mac-py"
  },
  "language_info": {
   "codemirror_mode": {
    "name": "ipython",
    "version": 3
   },
   "file_extension": ".py",
   "mimetype": "text/x-python",
   "name": "python",
   "nbconvert_exporter": "python",
   "pygments_lexer": "ipython3",
   "version": "3.10.6"
  }
 },
 "nbformat": 4,
 "nbformat_minor": 5
}

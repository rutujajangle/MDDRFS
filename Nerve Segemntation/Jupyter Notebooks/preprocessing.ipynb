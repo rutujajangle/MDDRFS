{
 "cells": [
  {
   "cell_type": "code",
   "execution_count": null,
   "id": "56b580c5",
   "metadata": {},
   "outputs": [],
   "source": [
    "import cv2\n",
    "import PIL.Image as Image\n",
    "import numpy as np"
   ]
  },
  {
   "cell_type": "code",
   "execution_count": null,
   "id": "37ff3b61",
   "metadata": {},
   "outputs": [],
   "source": [
    "# Basic Preprocessing \n",
    "# Centre crop to be added \n",
    "def process_image(path):\n",
    "    img = cv2.imread(path, cv2.IMREAD_GRAYSCALE)\n",
    "    img = cv2.resize(img, (512, 512))\n",
    "    img = np.asarray(img, dtype=\"float32\")\n",
    "    img = img/255.0\n",
    "    img = np.reshape(img, (512, 512, 1))\n",
    "    \n",
    "    return img\n",
    "\n",
    "# Data Augmentation"
   ]
  }
 ],
 "metadata": {
  "kernelspec": {
   "display_name": "Python [conda env:tf-mac] *",
   "language": "python",
   "name": "conda-env-tf-mac-py"
  },
  "language_info": {
   "codemirror_mode": {
    "name": "ipython",
    "version": 3
   },
   "file_extension": ".py",
   "mimetype": "text/x-python",
   "name": "python",
   "nbconvert_exporter": "python",
   "pygments_lexer": "ipython3",
   "version": "3.10.6"
  }
 },
 "nbformat": 4,
 "nbformat_minor": 5
}

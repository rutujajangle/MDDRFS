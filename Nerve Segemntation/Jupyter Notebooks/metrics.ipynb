{
 "cells": [
  {
   "cell_type": "code",
   "execution_count": null,
   "id": "1e6f7310",
   "metadata": {},
   "outputs": [],
   "source": [
    "from tensorflow.keras.metrics import Metric\n",
    "from functional import *"
   ]
  },
  {
   "cell_type": "code",
   "execution_count": null,
   "id": "1e51398f",
   "metadata": {},
   "outputs": [],
   "source": [
    "################################################################################\n",
    "# Metrics\n",
    "################################################################################"
   ]
  },
  {
   "cell_type": "code",
   "execution_count": null,
   "id": "251b4b5f",
   "metadata": {},
   "outputs": [],
   "source": [
    "class IOUScore(Metric):\n",
    "    def __init__(self, class_weights=None, threshold=None, smooth=1e-5, name=None):\n",
    "        name = name or \"iou_score\"\n",
    "        super().__init__(name=name)\n",
    "        self.class_weights = class_weights if class_weights is not None else 1.\n",
    "        self.threshold = threshold\n",
    "        self.smooth = smooth\n",
    "\n",
    "    def __call__(self, y_true, y_pred):\n",
    "        return iou_score(\n",
    "            y_true,\n",
    "            y_pred,\n",
    "            class_weights=self.class_weights,\n",
    "            smooth=self.smooth,\n",
    "            threshold=self.threshold\n",
    "        )"
   ]
  },
  {
   "cell_type": "code",
   "execution_count": null,
   "id": "132715be",
   "metadata": {},
   "outputs": [],
   "source": [
    "class FScore(Metric):\n",
    "    def __init__(self, beta=1, class_weights=None, threshold=None, smooth=1e-5, name=None):\n",
    "        name = name or \"f{}-score\".format(beta)\n",
    "        super().__init__(name=name)\n",
    "        self.beta = beta\n",
    "        self.class_weights = class_weights if class_weights is not None else 1.\n",
    "        self.threshold = threshold\n",
    "        self.smooth = smooth\n",
    "\n",
    "    def __call__(self, y_true, y_pred):\n",
    "        return dice_coefficient(\n",
    "            y_true,\n",
    "            y_pred,\n",
    "            beta=self.beta,\n",
    "            class_weights=self.class_weights,\n",
    "            smooth=self.smooth,\n",
    "            threshold=self.threshold\n",
    "        )"
   ]
  },
  {
   "cell_type": "code",
   "execution_count": null,
   "id": "1bcf58b5",
   "metadata": {},
   "outputs": [],
   "source": [
    "class Precision(Metric):\n",
    "    def __init__(self, class_weights=None, threshold=None, smooth=1e-5, name=None):\n",
    "        name = name or \"precision\"\n",
    "        super().__init__(name=name)\n",
    "        self.class_weights = class_weights if class_weights is not None else 1.\n",
    "        self.threshold = threshold\n",
    "        self.smooth = smooth\n",
    "\n",
    "    def __call__(self, y_true, y_pred):\n",
    "        return precision(\n",
    "            y_true,\n",
    "            y_pred,\n",
    "            class_weights=self.class_weights,\n",
    "            smooth=self.smooth,\n",
    "            threshold=self.threshold\n",
    "        )"
   ]
  },
  {
   "cell_type": "code",
   "execution_count": null,
   "id": "8f69cd4f",
   "metadata": {},
   "outputs": [],
   "source": [
    "class Recall(Metric):\n",
    "    def __init__(self, class_weights=None, threshold=None, smooth=1e-5, name=None):\n",
    "        name = name or \"recall\"\n",
    "        super().__init__(name=name)\n",
    "        self.class_weights = class_weights if class_weights is not None else 1.\n",
    "        self.threshold = threshold\n",
    "        self.smooth = smooth\n",
    "\n",
    "    def __call__(self, y_true, y_pred):\n",
    "        return iou_score(\n",
    "            y_true,\n",
    "            y_pred,\n",
    "            class_weights=self.class_weights,\n",
    "            smooth=self.smooth,\n",
    "            threshold=self.threshold\n",
    "        )"
   ]
  }
 ],
 "metadata": {
  "kernelspec": {
   "display_name": "Python [conda env:tf-mac] *",
   "language": "python",
   "name": "conda-env-tf-mac-py"
  },
  "language_info": {
   "codemirror_mode": {
    "name": "ipython",
    "version": 3
   },
   "file_extension": ".py",
   "mimetype": "text/x-python",
   "name": "python",
   "nbconvert_exporter": "python",
   "pygments_lexer": "ipython3",
   "version": "3.10.6"
  }
 },
 "nbformat": 4,
 "nbformat_minor": 5
}

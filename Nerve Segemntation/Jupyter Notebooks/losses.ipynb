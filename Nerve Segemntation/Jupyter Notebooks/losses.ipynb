{
 "cells": [
  {
   "cell_type": "code",
   "execution_count": null,
   "id": "b2f9f6d9",
   "metadata": {},
   "outputs": [],
   "source": [
    "from tensorflow.keras.losses import Loss\n",
    "from functional import iou_score, dice_coefficient, tversky\n",
    "import tensorflow.keras.backend as K"
   ]
  },
  {
   "cell_type": "code",
   "execution_count": null,
   "id": "2b76f240",
   "metadata": {},
   "outputs": [],
   "source": [
    "################################################################################\n",
    "# Losses\n",
    "################################################################################"
   ]
  },
  {
   "cell_type": "code",
   "execution_count": null,
   "id": "69b9408c",
   "metadata": {},
   "outputs": [],
   "source": [
    "class JaccardLoss(Loss):\n",
    "    def __init__(self, class_weights=None, smooth=1e-5):\n",
    "        super().__init__(name=\"jaccard_loss\")\n",
    "        self.class_weights = class_weights if class_weights is not None else 1.0\n",
    "        self.smooth = smooth\n",
    "\n",
    "    def __call__(self, y_true, y_pred):\n",
    "        return 1.0 - iou_score(\n",
    "            y_true,\n",
    "            y_pred,\n",
    "            class_weights=self.class_weights,\n",
    "            smooth=self.smooth,\n",
    "            threshold=None\n",
    "        )"
   ]
  },
  {
   "cell_type": "code",
   "execution_count": null,
   "id": "4651da43",
   "metadata": {},
   "outputs": [],
   "source": [
    "class DiceLoss(Loss):\n",
    "    def __init__(self, beta=1.0, class_weights=None, smooth=1e-5):\n",
    "        super().__init__(name=\"dice_loss\")\n",
    "        self.beta = beta\n",
    "        self.class_weights = class_weights if class_weights is not None else 1.0\n",
    "        self.smooth = smooth\n",
    "\n",
    "    def __call__(self, y_true, y_pred):\n",
    "        # print(y_pred)\n",
    "        return 1.0 - dice_coefficient(\n",
    "            y_true,\n",
    "            y_pred,\n",
    "            beta=self.beta,\n",
    "            class_weights=self.class_weights,\n",
    "            smooth=self.smooth,\n",
    "            threshold=None\n",
    "        )"
   ]
  },
  {
   "cell_type": "code",
   "execution_count": null,
   "id": "a3a69836",
   "metadata": {},
   "outputs": [],
   "source": [
    "class TverskyLoss(Loss):\n",
    "    def __init__(self, alpha=0.7, class_weights=None, smooth=1e-5):\n",
    "        super().__init__(name=\"tversky_loss\")\n",
    "        self.alpha = alpha\n",
    "        self.class_weights = class_weights if class_weights is not None else 1.0\n",
    "        self.smooth = smooth\n",
    "\n",
    "    def __call__(self, y_true, y_pred):\n",
    "        return 1.0 - tversky(\n",
    "            y_true,\n",
    "            y_pred,\n",
    "            alpha=self.alpha,\n",
    "            class_weights=self.class_weights,\n",
    "            smooth=self.smooth,\n",
    "            threshold=None\n",
    "        )"
   ]
  },
  {
   "cell_type": "code",
   "execution_count": null,
   "id": "065f27a8",
   "metadata": {},
   "outputs": [],
   "source": [
    "class FocalTverskyLoss(Loss):\n",
    "    def __init__(self, alpha=0.7, gamma=1.25, class_weights=None, smooth=1e-5):\n",
    "        super().__init__(name=\"focal_tversky_loss\")\n",
    "        self.alpha = alpha\n",
    "        self.gamma = gamma\n",
    "        self.class_weights = class_weights if class_weights is not None else 1.0\n",
    "        self.smooth = smooth\n",
    "\n",
    "    def __call__(self, y_true, y_pred):\n",
    "        return K.pow((1.0 - tversky(\n",
    "            y_true,\n",
    "            y_pred,\n",
    "            alpha=self.alpha,\n",
    "            class_weights=self.class_weights,\n",
    "            smooth=self.smooth,\n",
    "            threshold=None\n",
    "        )),\n",
    "        self.gamma\n",
    "        )"
   ]
  }
 ],
 "metadata": {
  "kernelspec": {
   "display_name": "Python [conda env:tf-mac] *",
   "language": "python",
   "name": "conda-env-tf-mac-py"
  },
  "language_info": {
   "codemirror_mode": {
    "name": "ipython",
    "version": 3
   },
   "file_extension": ".py",
   "mimetype": "text/x-python",
   "name": "python",
   "nbconvert_exporter": "python",
   "pygments_lexer": "ipython3",
   "version": "3.10.6"
  }
 },
 "nbformat": 4,
 "nbformat_minor": 5
}

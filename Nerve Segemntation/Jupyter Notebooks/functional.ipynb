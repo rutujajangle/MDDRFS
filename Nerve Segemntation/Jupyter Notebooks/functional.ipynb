{
 "cells": [
  {
   "cell_type": "code",
   "execution_count": null,
   "id": "1eebe5d8",
   "metadata": {},
   "outputs": [],
   "source": [
    "import tensorflow.keras.backend as K"
   ]
  },
  {
   "cell_type": "code",
   "execution_count": null,
   "id": "83ec7119",
   "metadata": {},
   "outputs": [],
   "source": [
    "################################################################################\n",
    "# Helper Functions\n",
    "################################################################################"
   ]
  },
  {
   "cell_type": "code",
   "execution_count": null,
   "id": "5c3020e4",
   "metadata": {},
   "outputs": [],
   "source": [
    "def average(x, class_weights=None):\n",
    "    if class_weights is not None:\n",
    "        x = x * class_weights\n",
    "    return K.mean(x)\n",
    "\n",
    "def gather_channels(*xs):\n",
    "    return xs\n",
    "\n",
    "def round_if_needed(x, threshold):\n",
    "    if threshold is not None:\n",
    "        x = K.greater(x, threshold)\n",
    "        x = K.cast(x, K.floatx())\n",
    "    return x"
   ]
  },
  {
   "cell_type": "code",
   "execution_count": null,
   "id": "6509484b",
   "metadata": {},
   "outputs": [],
   "source": [
    "################################################################################\n",
    "# Metric Functions\n",
    "################################################################################"
   ]
  },
  {
   "cell_type": "code",
   "execution_count": null,
   "id": "09c30659",
   "metadata": {},
   "outputs": [],
   "source": [
    "def iou_score(y_true, y_pred, class_weights=1., smooth=1e-5, threshold=None):    \n",
    "    # y_true = K.one_hot(K.squeeze(K.cast(y_true, tf.int32), axis=-1), n_classes)\n",
    "\n",
    "    y_true, y_pred = gather_channels(y_true, y_pred)\n",
    "    y_pred = round_if_needed(y_pred, threshold)\n",
    "    axes = [1, 2] if K.image_data_format() == \"channels_last\" else [2, 3]\n",
    "    \n",
    "    intersection = K.sum(y_true * y_pred, axis=axes)\n",
    "    union = K.sum(y_true + y_pred, axis=axes) - intersection\n",
    "\n",
    "    score = (intersection + smooth) / (union + smooth)\n",
    "    score = average(score, class_weights)\n",
    "\n",
    "    return score"
   ]
  },
  {
   "cell_type": "code",
   "execution_count": null,
   "id": "8a465aff",
   "metadata": {},
   "outputs": [],
   "source": [
    "def dice_coefficient(y_true, y_pred, beta=1.0, class_weights=1., smooth=1e-5, threshold=None):\n",
    "    # print(y_pred)\n",
    "    y_true, y_pred = gather_channels(y_true, y_pred)\n",
    "    y_pred = round_if_needed(y_pred, threshold)\n",
    "    axes = [1, 2] if K.image_data_format() == \"channels_last\" else [2, 3]\n",
    "    \n",
    "    tp = K.sum(y_true * y_pred, axis=axes)\n",
    "    fp = K.sum(y_pred, axis=axes) - tp\n",
    "    fn = K.sum(y_true, axis=axes) - tp\n",
    "\n",
    "    score = ((1.0 + beta) * tp + smooth) / ((1.0 + beta) * tp + (beta ** 2.0) * fn + fp + smooth)\n",
    "    # print(\"Score, wo avg: \" + str(score))\n",
    "    score = average(score, class_weights)\n",
    "    # print(\"Score: \" + str(score))\n",
    "\n",
    "    return score"
   ]
  },
  {
   "cell_type": "code",
   "execution_count": null,
   "id": "da6515ba",
   "metadata": {},
   "outputs": [],
   "source": [
    "def precision(y_true, y_pred, class_weights=1., smooth=1e-5, threshold=None):\n",
    "    y_true, y_pred = gather_channels(y_true, y_pred)\n",
    "    y_pred = round_if_needed(y_pred, threshold)\n",
    "    axes = [1, 2] if K.image_data_format() == \"channels_last\" else [2, 3]\n",
    "    \n",
    "    tp = K.sum(y_true * y_pred, axis=axes)\n",
    "    fp = K.sum(y_pred, axis=axes) - tp\n",
    "\n",
    "    score = (tp + smooth) / (tp + fp + smooth)\n",
    "    score = average(score, class_weights)\n",
    "\n",
    "    return score"
   ]
  },
  {
   "cell_type": "code",
   "execution_count": null,
   "id": "4a3d938d",
   "metadata": {},
   "outputs": [],
   "source": [
    "def recall(y_true, y_pred, class_weights=1., smooth=1e-5, threshold=None):\n",
    "    y_true, y_pred = gather_channels(y_true, y_pred)\n",
    "    y_pred = round_if_needed(y_pred, threshold)\n",
    "    axes = [1, 2] if K.image_data_format() == \"channels_last\" else [2, 3]\n",
    "    \n",
    "    tp = K.sum(y_true * y_pred, axis=axes)\n",
    "    fn = K.sum(y_true, axis=axes) - tp\n",
    "\n",
    "    score = (tp + smooth) / (tp + fn + smooth)\n",
    "    score = average(score, class_weights)\n",
    "\n",
    "    return score"
   ]
  },
  {
   "cell_type": "code",
   "execution_count": null,
   "id": "31b97e5d",
   "metadata": {},
   "outputs": [],
   "source": [
    "def tversky(y_true, y_pred, alpha=0.7, class_weights=1., smooth=1e-5, threshold=None):\n",
    "    y_true, y_pred = gather_channels(y_true, y_pred)\n",
    "    y_pred = round_if_needed(y_pred, threshold)\n",
    "    axes = [1, 2] if K.image_data_format() == \"channels_last\" else [2, 3]\n",
    "    \n",
    "    tp = K.sum(y_true * y_pred, axis=axes)\n",
    "    fp = K.sum(y_pred, axis=axes) - tp\n",
    "    fn = K.sum(y_true, axis=axes) - tp\n",
    "\n",
    "    score = (tp + smooth) / (tp + alpha * fn + (1 - alpha) * fp + smooth)\n",
    "    score = average(score, class_weights)\n",
    "\n",
    "    return score"
   ]
  },
  {
   "cell_type": "code",
   "execution_count": null,
   "id": "b8874081",
   "metadata": {},
   "outputs": [],
   "source": [
    "################################################################################\n",
    "# Loss Functions\n",
    "################################################################################"
   ]
  },
  {
   "cell_type": "code",
   "execution_count": null,
   "id": "f5a56317",
   "metadata": {},
   "outputs": [],
   "source": [
    "def categorical_crossentropy(y_true, y_pred, class_weights=1.):\n",
    "    y_true, y_pred = gather_channels(y_true, y_pred)\n",
    "\n",
    "    axis = 3 if K.image_data_format() == \"channels_last\" else 1\n",
    "    y_pred /= K.sum(y_pred, axis=axis, keepdims=True)\n",
    "\n",
    "    y_pred = K.clip(y_pred, K.epsilon(), 1.0 - K.epsilon())\n",
    "\n",
    "    loss = y_true * K.log(y_pred) * class_weights\n",
    "    return - K.mean(loss)"
   ]
  },
  {
   "cell_type": "code",
   "execution_count": null,
   "id": "07b15561",
   "metadata": {},
   "outputs": [],
   "source": [
    "def binary_crossentropy(y_true, y_pred):\n",
    "    return K.mean(K.binary_crossentropy(y_true, y_pred))"
   ]
  },
  {
   "cell_type": "code",
   "execution_count": null,
   "id": "2db8f70e",
   "metadata": {},
   "outputs": [],
   "source": [
    "def categorical_focal_loss(y_true, y_pred, gamma=2.0, alpha=0.25):\n",
    "    y_true, y_pred = gather_channels(y_true, y_pred)\n",
    "    y_true = K.cast(y_true, K.floatx())\n",
    "    y_pred = K.clip(y_pred, K.epsilon(), 1.0 - K.epsilon())\n",
    "\n",
    "    loss = - y_true * (alpha * K.pow((1 - y_pred), gamma) * K.log(y_pred))\n",
    "\n",
    "    return K.mean(loss)"
   ]
  },
  {
   "cell_type": "code",
   "execution_count": null,
   "id": "f1326230",
   "metadata": {},
   "outputs": [],
   "source": [
    "# def categorical_focal_dice_loss(y_true, y_pred, gamma=2.0, alpha=0.25, beta=1.0, class_weights=1., smooth=1e-5, threshold=None):\n",
    "#     dice_score = dice_coefficient(y_true, y_pred, beta=beta, class_weights=class_weights, smooth=smooth, threshold=threshold)\n",
    "\n",
    "#     cat_focal_loss = categorical_focal_loss(y_true, y_pred, gamma=gamma, alpha=alpha)\n",
    "#     return dice_loss + cat_focal_loss"
   ]
  },
  {
   "cell_type": "code",
   "execution_count": null,
   "id": "e80b2244",
   "metadata": {},
   "outputs": [],
   "source": [
    "def binary_focal_loss(y_true, y_pred, gamma=2.0, alpha=0.25):\n",
    "    y_pred = K.clip(y_pred, K.epsilon(), 1.0 - K.epsilon())\n",
    "\n",
    "    loss_a = - y_true * (alpha * K.pow((1 - y_pred), gamma) * K.log(y_pred))\n",
    "    loss_b = - (1 - y_true) * ((1 - alpha) * K.pow((y_pred), gamma) * K.log(1 - y_pred))\n",
    "    \n",
    "    return K.mean(loss_a + loss_b)"
   ]
  },
  {
   "cell_type": "code",
   "execution_count": null,
   "id": "49fa342d",
   "metadata": {},
   "outputs": [],
   "source": [
    "def combo(y_true, y_pred, alpha=0.5, beta=1.0, ce_ratio=0.5, class_weights=1., smooth=1e-5, threshold=None):\n",
    "    # alpha < 0.5 penalizes FP more, alpha > 0.5 penalizes FN more\n",
    "\n",
    "    y_true, y_pred = gather_channels(y_true, y_pred)\n",
    "    y_pred = round_if_needed(y_pred, threshold)\n",
    "    axes = [1, 2] if K.image_data_format() == \"channels_last\" else [2, 3]\n",
    "    \n",
    "    tp = K.sum(y_true * y_pred, axis=axes)\n",
    "    fp = K.sum(y_pred, axis=axes) - tp\n",
    "    fn = K.sum(y_true, axis=axes) - tp\n",
    "\n",
    "    dice = ((1.0 + beta) * tp + smooth) / ((1.0 + beta) * tp + (beta ** 2.0) * fn + fp + smooth)\n",
    "\n",
    "    y_pred = K.clip(y_pred, K.epsilon(), 1.0 - K.epsilon())\n",
    "\n",
    "    ce = - (alpha * (y_true * K.log(y_pred))) + ((1 - alpha) * (1.0 - y_true) * K.log(1.0 - y_pred))\n",
    "    ce = K.mean(ce, axis=axes)\n",
    "\n",
    "    combo = (ce_ratio * ce) - ((1 - ce_ratio) * dice)\n",
    "    loss = average(combo, class_weights)\n",
    "\n",
    "    return loss"
   ]
  }
 ],
 "metadata": {
  "kernelspec": {
   "display_name": "Python [conda env:tf-mac] *",
   "language": "python",
   "name": "conda-env-tf-mac-py"
  },
  "language_info": {
   "codemirror_mode": {
    "name": "ipython",
    "version": 3
   },
   "file_extension": ".py",
   "mimetype": "text/x-python",
   "name": "python",
   "nbconvert_exporter": "python",
   "pygments_lexer": "ipython3",
   "version": "3.10.6"
  }
 },
 "nbformat": 4,
 "nbformat_minor": 5
}
